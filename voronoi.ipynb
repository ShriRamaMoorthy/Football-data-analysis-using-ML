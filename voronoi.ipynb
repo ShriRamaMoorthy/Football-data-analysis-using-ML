{
 "cells": [
  {
   "cell_type": "code",
   "execution_count": 1,
   "id": "cfb56805",
   "metadata": {},
   "outputs": [],
   "source": [
    "import pandas as pd\n",
    "import numpy as np\n",
    "import matplotlib.pyplot as plt\n",
    "from mplsoccer.pitch import Pitch\n",
    "from scipy.spatial import Voronoi, voronoi_plot_2d\n",
    "import highlight_text"
   ]
  },
  {
   "cell_type": "code",
   "execution_count": 2,
   "id": "51d0b367",
   "metadata": {},
   "outputs": [],
   "source": [
    "barca_x=[93,96,99,102,104,95,86,79,89]\n",
    "barca_y=[9,22,33,44,56,63,52,33,22]\n",
    "barca = list(np.zeros((9,),dtype=int))\n",
    "\n",
    "opp_x=[99,100,102,104,104,102,97,98,94,77]\n",
    "opp_y=[14,22,33,43,46,55,37,27,21,45]\n",
    "opp = list(np.ones((10,),dtype=int))\n",
    "\n",
    "df = pd.DataFrame({\n",
    "    'x':barca_x+opp_x,\n",
    "    'y':barca_y+opp_y,\n",
    "    'team':barca+opp\n",
    "})"
   ]
  },
  {
   "cell_type": "code",
   "execution_count": 3,
   "id": "888fba63",
   "metadata": {},
   "outputs": [
    {
     "data": {
      "text/plain": [
       "<matplotlib.collections.PathCollection at 0x1c38d104fa0>"
      ]
     },
     "execution_count": 3,
     "metadata": {},
     "output_type": "execute_result"
    },
    {
     "data": {
      "image/png": "[encoded data removed]",
      "text/plain": [
       "<Figure size 936x612 with 1 Axes>"
      ]
     },
     "metadata": {},
     "output_type": "display_data"
    }
   ],
   "source": [
    "fig, ax = plt.subplots(figsize=(13,8.5))\n",
    "fig.set_facecolor('#38383b')\n",
    "ax.patch.set_facecolor('#38383b')\n",
    "\n",
    "#The statsbomb pitch from mplsoccer\n",
    "pitch = Pitch(pitch_type='statsbomb',pitch_color='green', line_color='#c7d5cc')\n",
    "\n",
    "pitch.draw(ax=ax)\n",
    "\n",
    "pitch.scatter(89,22,ax=ax,marker='*',color='black')"
   ]
  },
  {
   "cell_type": "code",
   "execution_count": 4,
   "id": "6ae2e4a8",
   "metadata": {},
   "outputs": [
    {
     "data": {
      "text/html": [
       "<div>\n",
       "<style scoped>\n",
       "    .dataframe tbody tr th:only-of-type {\n",
       "        vertical-align: middle;\n",
       "    }\n",
       "\n",
       "    .dataframe tbody tr th {\n",
       "        vertical-align: top;\n",
       "    }\n",
       "\n",
       "    .dataframe thead th {\n",
       "        text-align: right;\n",
       "    }\n",
       "</style>\n",
       "<table border=\"1\" class=\"dataframe\">\n",
       "  <thead>\n",
       "    <tr style=\"text-align: right;\">\n",
       "      <th></th>\n",
       "      <th>x</th>\n",
       "      <th>y</th>\n",
       "      <th>team</th>\n",
       "    </tr>\n",
       "  </thead>\n",
       "  <tbody>\n",
       "    <tr>\n",
       "      <th>0</th>\n",
       "      <td>93</td>\n",
       "      <td>9</td>\n",
       "      <td>0</td>\n",
       "    </tr>\n",
       "    <tr>\n",
       "      <th>1</th>\n",
       "      <td>96</td>\n",
       "      <td>22</td>\n",
       "      <td>0</td>\n",
       "    </tr>\n",
       "    <tr>\n",
       "      <th>2</th>\n",
       "      <td>99</td>\n",
       "      <td>33</td>\n",
       "      <td>0</td>\n",
       "    </tr>\n",
       "    <tr>\n",
       "      <th>3</th>\n",
       "      <td>102</td>\n",
       "      <td>44</td>\n",
       "      <td>0</td>\n",
       "    </tr>\n",
       "    <tr>\n",
       "      <th>4</th>\n",
       "      <td>104</td>\n",
       "      <td>56</td>\n",
       "      <td>0</td>\n",
       "    </tr>\n",
       "    <tr>\n",
       "      <th>5</th>\n",
       "      <td>95</td>\n",
       "      <td>63</td>\n",
       "      <td>0</td>\n",
       "    </tr>\n",
       "    <tr>\n",
       "      <th>6</th>\n",
       "      <td>86</td>\n",
       "      <td>52</td>\n",
       "      <td>0</td>\n",
       "    </tr>\n",
       "    <tr>\n",
       "      <th>7</th>\n",
       "      <td>79</td>\n",
       "      <td>33</td>\n",
       "      <td>0</td>\n",
       "    </tr>\n",
       "    <tr>\n",
       "      <th>8</th>\n",
       "      <td>89</td>\n",
       "      <td>22</td>\n",
       "      <td>0</td>\n",
       "    </tr>\n",
       "    <tr>\n",
       "      <th>9</th>\n",
       "      <td>99</td>\n",
       "      <td>14</td>\n",
       "      <td>1</td>\n",
       "    </tr>\n",
       "    <tr>\n",
       "      <th>10</th>\n",
       "      <td>100</td>\n",
       "      <td>22</td>\n",
       "      <td>1</td>\n",
       "    </tr>\n",
       "    <tr>\n",
       "      <th>11</th>\n",
       "      <td>102</td>\n",
       "      <td>33</td>\n",
       "      <td>1</td>\n",
       "    </tr>\n",
       "    <tr>\n",
       "      <th>12</th>\n",
       "      <td>104</td>\n",
       "      <td>43</td>\n",
       "      <td>1</td>\n",
       "    </tr>\n",
       "    <tr>\n",
       "      <th>13</th>\n",
       "      <td>104</td>\n",
       "      <td>46</td>\n",
       "      <td>1</td>\n",
       "    </tr>\n",
       "    <tr>\n",
       "      <th>14</th>\n",
       "      <td>102</td>\n",
       "      <td>55</td>\n",
       "      <td>1</td>\n",
       "    </tr>\n",
       "    <tr>\n",
       "      <th>15</th>\n",
       "      <td>97</td>\n",
       "      <td>37</td>\n",
       "      <td>1</td>\n",
       "    </tr>\n",
       "    <tr>\n",
       "      <th>16</th>\n",
       "      <td>98</td>\n",
       "      <td>27</td>\n",
       "      <td>1</td>\n",
       "    </tr>\n",
       "    <tr>\n",
       "      <th>17</th>\n",
       "      <td>94</td>\n",
       "      <td>21</td>\n",
       "      <td>1</td>\n",
       "    </tr>\n",
       "    <tr>\n",
       "      <th>18</th>\n",
       "      <td>77</td>\n",
       "      <td>45</td>\n",
       "      <td>1</td>\n",
       "    </tr>\n",
       "  </tbody>\n",
       "</table>\n",
       "</div>"
      ],
      "text/plain": [
       "      x   y  team\n",
       "0    93   9     0\n",
       "1    96  22     0\n",
       "2    99  33     0\n",
       "3   102  44     0\n",
       "4   104  56     0\n",
       "5    95  63     0\n",
       "6    86  52     0\n",
       "7    79  33     0\n",
       "8    89  22     0\n",
       "9    99  14     1\n",
       "10  100  22     1\n",
       "11  102  33     1\n",
       "12  104  43     1\n",
       "13  104  46     1\n",
       "14  102  55     1\n",
       "15   97  37     1\n",
       "16   98  27     1\n",
       "17   94  21     1\n",
       "18   77  45     1"
      ]
     },
     "execution_count": 4,
     "metadata": {},
     "output_type": "execute_result"
    }
   ],
   "source": [
    "df"
   ]
  },
  {
   "cell_type": "code",
   "execution_count": 5,
   "id": "3f28e6ed",
   "metadata": {},
   "outputs": [],
   "source": [
    "points=np.column_stack((df.x,df.y)) #puts them in an array to pass on for voronoi diagram"
   ]
  },
  {
   "cell_type": "code",
   "execution_count": 6,
   "id": "b13df28e",
   "metadata": {},
   "outputs": [
    {
     "data": {
      "text/plain": [
       "<highlight_text.htext.HighlightText at 0x1c38d1fee20>"
      ]
     },
     "execution_count": 6,
     "metadata": {},
     "output_type": "execute_result"
    },
    {
     "data": {
      "image/png": "[encoded data removed]",
      "text/plain": [
       "<Figure size 936x612 with 1 Axes>"
      ]
     },
     "metadata": {},
     "output_type": "display_data"
    }
   ],
   "source": [
    "fig, ax = plt.subplots(figsize=(13,8.5))\n",
    "fig.set_facecolor('#38383b')\n",
    "ax.patch.set_facecolor('#38383b')\n",
    "\n",
    "#The statsbomb pitch from mplsoccer\n",
    "pitch = Pitch(pitch_type='statsbomb', pitch_color='black', line_color='white')\n",
    "\n",
    "pitch.draw(ax=ax)\n",
    "\n",
    "x=df.x\n",
    "y=df.y\n",
    "team1,team2 = pitch.voronoi(x,y,df.team)\n",
    "\n",
    "t1 = pitch.polygon(team1, ax=ax, fc='red', ec='white', lw=3, alpha=0.4)\n",
    "t2 = pitch.polygon(team2, ax=ax, fc='blue', ec='white', lw=3, alpha=0.4)\n",
    "\n",
    "# Plot players\n",
    "for i in range(len(df['x'])):\n",
    "    if df['team'][i]==0:\n",
    "        pitch.scatter(df['x'][i],df['y'][i],ax=ax,color='blue')\n",
    "    if df['team'][i]==1:\n",
    "        pitch.scatter(df['x'][i],df['y'][i],ax=ax,color='red')\n",
    "        \n",
    "\n",
    "fig.text(x=.22,y=.1,s='@SRM',fontstyle='italic',fontsize=9,fontfamily='DejaVu Sans',color='white')\n",
    "\n",
    "s=' Low Block vs Cadiz'\n",
    "highlight_text.fig_text(s=s,x=.40, y=.87, \n",
    "                        fontfamily='DejaVu Sans', fontsize=18, color='white')\n",
    "\n"
   ]
  },
  {
   "cell_type": "code",
   "execution_count": null,
   "id": "435018df",
   "metadata": {},
   "outputs": [],
   "source": []
  }
 ],
 "metadata": {
  "kernelspec": {
   "display_name": "Python 3 (ipykernel)",
   "language": "python",
   "name": "python3"
  },
  "language_info": {
   "codemirror_mode": {
    "name": "ipython",
    "version": 3
   },
   "file_extension": ".py",
   "mimetype": "text/x-python",
   "name": "python",
   "nbconvert_exporter": "python",
   "pygments_lexer": "ipython3",
   "version": "3.9.12"
  }
 },
 "nbformat": 4,
 "nbformat_minor": 5
}
